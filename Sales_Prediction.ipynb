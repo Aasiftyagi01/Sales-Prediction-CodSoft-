{
 "cells": [
  {
   "cell_type": "markdown",
   "id": "0a02ef08",
   "metadata": {},
   "source": [
    "# 📈 Sales Prediction using Simple Linear Regression in Python"
   ]
  },
  {
   "cell_type": "code",
   "execution_count": null,
   "id": "8ac6252a",
   "metadata": {},
   "outputs": [],
   "source": [
    "# Import required libraries\n",
    "import pandas as pd\n",
    "import matplotlib.pyplot as plt\n",
    "import seaborn as sns\n",
    "from sklearn.linear_model import LinearRegression\n",
    "from sklearn.model_selection import train_test_split\n",
    "from sklearn.metrics import mean_squared_error, r2_score"
   ]
  },
  {
   "cell_type": "code",
   "execution_count": null,
   "id": "632265a3",
   "metadata": {},
   "outputs": [],
   "source": [
    "# Load the dataset\n",
    "df = pd.read_csv(\"/mnt/data/advertising (2).csv\")\n",
    "\n",
    "# Display the first few rows\n",
    "print(\"First 5 rows of data:\")\n",
    "print(df.head())"
   ]
  },
  {
   "cell_type": "code",
   "execution_count": null,
   "id": "07e2a915",
   "metadata": {},
   "outputs": [],
   "source": [
    "# Basic info\n",
    "print(\"\\nDataset Info:\")\n",
    "print(df.info())\n",
    "\n",
    "# Check for null values\n",
    "print(\"\\nMissing values:\")\n",
    "print(df.isnull().sum())"
   ]
  },
  {
   "cell_type": "code",
   "execution_count": null,
   "id": "05247b49",
   "metadata": {},
   "outputs": [],
   "source": [
    "# Visualize relationships\n",
    "sns.pairplot(df, x_vars=['TV', 'Radio', 'Newspaper'], y_vars='Sales', kind='scatter', height=4)\n",
    "plt.suptitle(\"Advertising Spend vs Sales\")\n",
    "plt.show()"
   ]
  },
  {
   "cell_type": "code",
   "execution_count": null,
   "id": "caf10726",
   "metadata": {},
   "outputs": [],
   "source": [
    "# Let's use 'TV' advertising spend to predict 'Sales' (Simple Linear Regression)\n",
    "X = df[['TV']]  # independent variable\n",
    "y = df['Sales']  # dependent variable\n",
    "\n",
    "# Split the data (80% train, 20% test)\n",
    "X_train, X_test, y_train, y_test = train_test_split(X, y, test_size=0.2, random_state=42)"
   ]
  },
  {
   "cell_type": "code",
   "execution_count": null,
   "id": "d3cd3180",
   "metadata": {},
   "outputs": [],
   "source": [
    "# Train the model\n",
    "model = LinearRegression()\n",
    "model.fit(X_train, y_train)\n",
    "\n",
    "# Predict\n",
    "y_pred = model.predict(X_test)"
   ]
  },
  {
   "cell_type": "code",
   "execution_count": null,
   "id": "a02163f7",
   "metadata": {},
   "outputs": [],
   "source": [
    "# Evaluate the model\n",
    "print(\"\\nModel Evaluation:\")\n",
    "print(f\"R^2 Score: {r2_score(y_test, y_pred):.3f}\")\n",
    "print(f\"Mean Squared Error: {mean_squared_error(y_test, y_pred):.3f}\")"
   ]
  },
  {
   "cell_type": "code",
   "execution_count": null,
   "id": "399565d6",
   "metadata": {},
   "outputs": [],
   "source": [
    "# Visualize regression line\n",
    "plt.figure(figsize=(8, 5))\n",
    "plt.scatter(X_test, y_test, color='blue', label='Actual')\n",
    "plt.plot(X_test, y_pred, color='red', linewidth=2, label='Predicted')\n",
    "plt.title('TV Advertising vs Sales')\n",
    "plt.xlabel('TV Advertising Spend')\n",
    "plt.ylabel('Sales')\n",
    "plt.legend()\n",
    "plt.show()"
   ]
  }
 ],
 "metadata": {},
 "nbformat": 4,
 "nbformat_minor": 5
}
